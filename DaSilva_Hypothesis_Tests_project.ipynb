{
 "cells": [
  {
   "cell_type": "markdown",
   "id": "7b0dac99",
   "metadata": {},
   "source": [
    "# Big Data and Data Analytics - Lab Project \n",
    "This lab project covers the material from Lectures 1-5. Please make yourself familiar with the lecture content before proceeding. We will be using the [**CSM**](https://archive.ics.uci.edu/ml/datasets/CSM+%28Conventional+and+Social+Media+Movies%29+Dataset+2014+and+2015) movie dataset courtesy of Mehreen Ahmed on the UCI Machine Learning Repository.\n",
    "\n",
    "**<u>How to complete</u>**:\n",
    "- For each exercise, read the objective and hint, and then fill the cells. These will usually be code cells requiring you to write Python code. If we ask you to explain something in plaintext, these may also be Markdown cells.\n",
    "- Allowed libraries are imported below. No additional libraries may be used for this lab project.\n",
    "- **Run all cells before submitting. You will only get marks for code that has been run, and has not produced any errors.**"
   ]
  },
  {
   "cell_type": "code",
   "execution_count": 1,
   "id": "c3fc56a8",
   "metadata": {},
   "outputs": [],
   "source": [
    "import pandas as pd\n",
    "import numpy as np\n",
    "import matplotlib.pyplot as plt\n",
    "import scipy.stats as stats\n",
    "from statsmodels.stats.multicomp import MultiComparison"
   ]
  },
  {
   "cell_type": "markdown",
   "id": "35af571c",
   "metadata": {},
   "source": [
    "If there are any errors during the import above, you may need to install the required libraries/packages libraries (e.g. \"pip install ...\")."
   ]
  },
  {
   "cell_type": "markdown",
   "id": "67f0769f",
   "metadata": {},
   "source": [
    "## Exercise 1: Dataset Import, Exploration and Preparation "
   ]
  },
  {
   "cell_type": "markdown",
   "id": "c571b8a6",
   "metadata": {},
   "source": [
    "### Exercise 1.1 \n",
    "- Load the dataset `moviedata.csv` into a pandas `DataFrame` named `df_movie`.\n",
    "- Exclude all rows with missing data from `df_movie`.\n",
    "- `print` the number of rows before and after removing observations with missing data in a single gramatically coherent sentence.\n",
    "\n",
    "Hint: Look at the functions [`pd.read_csv`](https://pandas.pydata.org/pandas-docs/stable/reference/api/pandas.read_csv.html), [`pd.isnull`](https://pandas.pydata.org/docs/reference/api/pandas.isnull.html) and [`pd.DataFrame.any`](https://pandas.pydata.org/docs/reference/api/pandas.DataFrame.any.html)."
   ]
  },
  {
   "cell_type": "code",
   "execution_count": 2,
   "id": "c3f94c45",
   "metadata": {},
   "outputs": [
    {
     "name": "stdout",
     "output_type": "stream",
     "text": [
      "The number of rows before removing observations with missing data : 231\n",
      "and after removing observations : 187\n"
     ]
    }
   ],
   "source": [
    "df_movie = pd.read_csv(\"moviedata(3).csv\", na_values=['?','NA',''])\n",
    "\n",
    "\n",
    "print(\"The number of rows before removing observations with missing data :\", len(df_movie.index)) \n",
    "      \n",
    "df_movie = df_movie.dropna(axis=0)      \n",
    "      \n",
    "print(\"and after removing observations :\", len(df_movie.index))\n"
   ]
  },
  {
   "cell_type": "markdown",
   "id": "75896d19",
   "metadata": {},
   "source": [
    "### Exercise 1.2 \n",
    "- Create a new column `profit` in `df_movie` by subtracting the variables `gross` and `budget`.\n",
    "- Create a new categorical column `sequelcat` in `df_movie` which takes the value `sequel` if the movie is a sequel, and `original` otherwise. \n",
    "- Find the five most profitable `original` movies and `print` their `movie` title and `profit` to the console (sorted as highest profit first).\n",
    "- Find the five least profitable `sequel` movies and `print` these `movie` title and `profit` to the console (sorted as lowest profit first).\n",
    "\n",
    "Hint: Look at [`pd.DataFrame.sort_values`](https://pandas.pydata.org/docs/reference/api/pandas.DataFrame.sort_values.html), [`pd.DataFrame.astype`](https://pandas.pydata.org/docs/reference/api/pandas.DataFrame.astype.html), [`pd.Series.cat.rename_categories`](https://pandas.pydata.org/docs/reference/api/pandas.Series.cat.rename_categories.html) and the pandas slicing and subsetting notation."
   ]
  },
  {
   "cell_type": "code",
   "execution_count": 3,
   "id": "85653807",
   "metadata": {
    "scrolled": true
   },
   "outputs": [
    {
     "name": "stdout",
     "output_type": "stream",
     "text": [
      "The 5 most profitable movies:                                      movie       profit\n",
      "163                         Jurassic World  493000000.0\n",
      "10                         American Sniper  291200000.0\n",
      "167                                Minions  251000000.0\n",
      "127  The Hunger Games: Mockingjay - Part 1  212000000.0\n",
      "164                Avengers: Age of Ultron  208000000.0\n",
      "The 5 least profitable profitable movies:                   movie       profit\n",
      "190  Jupiter Ascending -128600000.0\n",
      "179       Tomorrowland  -96800000.0\n",
      "36    Edge of Tomorrow  -78000000.0\n",
      "99         Seventh Son  -77800000.0\n",
      "149      Transcendence  -77000000.0\n"
     ]
    }
   ],
   "source": [
    "#Create a new column profit in df_movie by subtracting the variables gross and budget.\n",
    "df_movie['profit'] = np.subtract(df_movie['gross'], df_movie['budget']) \n",
    "\n",
    "#Create a new categorical column sequelcat in df_movie which takes the value sequel if the movie is a sequel, and original otherwise.\n",
    "df_movie['sequelcat'] = df_movie[\"dummy_sequel\"] \n",
    "df_movie.replace({\"sequelcat\": {0:\"original\", 1:\"sequel\"}},inplace=True)\n",
    "\n",
    "profitsorted = df_movie.sort_values(by=\"profit\", ascending=False)\n",
    "print(\"The 5 most profitable movies:\", \n",
    "      profitsorted[['movie','profit']][0:5])\n",
    "\n",
    "profitsorted2 = df_movie.sort_values(by=\"profit\")\n",
    "print(\"The 5 least profitable profitable movies: \", \n",
    "      profitsorted2[['movie','profit']][0:5])"
   ]
  },
  {
   "cell_type": "markdown",
   "id": "3378b325",
   "metadata": {},
   "source": [
    "## Exercise 2: Visualisation "
   ]
  },
  {
   "cell_type": "markdown",
   "id": "08e1c71f",
   "metadata": {},
   "source": [
    "### Exercise 2.1 \n",
    "Create a violin plot with an overlayed boxplot based on `df_movie` that shows the `profit` on the y-Axis separately for `original` movies and `sequel` movies. Color the violin plot blue for `original`s and orange for `sequel`s. Use an appropriate title and axis labels. \n",
    "\n",
    "Hint: Look at [`plt.violinplot`](https://matplotlib.org/stable/api/_as_gen/matplotlib.pyplot.violinplot.html) and [`plt.boxplot`](https://matplotlib.org/stable/api/_as_gen/matplotlib.pyplot.boxplot.html)."
   ]
  },
  {
   "cell_type": "code",
   "execution_count": 158,
   "id": "2a792d1c",
   "metadata": {
    "scrolled": true
   },
   "outputs": [
    {
     "data": {
      "image/png": "[encoded data removed]",
      "text/plain": [
       "<Figure size 720x720 with 1 Axes>"
      ]
     },
     "metadata": {
      "needs_background": "light"
     },
     "output_type": "display_data"
    }
   ],
   "source": [
    "plotlabels = ['original','sequel']\n",
    "plotdata = [df_movie[df_movie['sequelcat']==label]['profit'] for label in plotlabels]\n",
    "colors = ['blue', 'orange']\n",
    "plt.figure(figsize=(10, 10))\n",
    "vparts = plt.violinplot(plotdata, showextrema=False) # Violin plot incl. density estimation\n",
    "for patch, color in zip(vparts['bodies'], colors):\n",
    "    patch.set_color(color) # Set color for violin plot\n",
    "plt.boxplot(plotdata, widths=0.15, zorder=3, labels=plotlabels) # Overlay box plot\n",
    "plt.xlabel('sequelcat') # Set x label\n",
    "plt.ylabel('Profit') # Set y label\n",
    "plt.title('Movies profit by category original and sequel') \n",
    "plt.grid(zorder=0) # Add grid\n",
    "plt.show()"
   ]
  },
  {
   "cell_type": "markdown",
   "id": "d9d7e891",
   "metadata": {},
   "source": [
    "### Exercise 2.2 \n",
    "- Create a new column `likes_winsor` in `df_movie` with a 5% winsorised version of the column `likes`. To make sure the winsorising worked, compare the minimum and maximum values of the two columns.\n",
    "- Create a new column `ratingscat` based on `ratings` in `df_movie`, which describes the ratings category of a movie. Distinguish between the following categories:\n",
    "    - `negative`: $0 <= ratings < 6$\n",
    "    - `neutral`: $6 <= ratings < 6.8$\n",
    "    - `positive`: $6.8 <= ratings <= 10$\n",
    "\n",
    "Hint: For winsorising, you may use either the custom defined function from Lecture 3, or [`scipy.stats.mstats.winsorize`](https://docs.scipy.org/doc/scipy/reference/generated/scipy.stats.mstats.winsorize.html). Also look at [`np.ndarray.min`](https://numpy.org/doc/stable/reference/generated/numpy.ndarray.min.html), [`np.ndarray.max`](https://numpy.org/doc/stable/reference/generated/numpy.ndarray.max.html), and [`pd.cut`](https://pandas.pydata.org/pandas-docs/stable/reference/api/pandas.cut.html)."
   ]
  },
  {
   "cell_type": "code",
   "execution_count": 4,
   "id": "90b02a21",
   "metadata": {},
   "outputs": [
    {
     "name": "stdout",
     "output_type": "stream",
     "text": [
      "The min value of likes: 1\n",
      "The min value of likes_winsor: 85\n",
      "The max value of likes: 370552\n",
      "The max value of likes_winsor: 38810\n"
     ]
    },
    {
     "data": {
      "text/html": [
       "<div>\n",
       "<style scoped>\n",
       "    .dataframe tbody tr th:only-of-type {\n",
       "        vertical-align: middle;\n",
       "    }\n",
       "\n",
       "    .dataframe tbody tr th {\n",
       "        vertical-align: top;\n",
       "    }\n",
       "\n",
       "    .dataframe thead th {\n",
       "        text-align: right;\n",
       "    }\n",
       "</style>\n",
       "<table border=\"1\" class=\"dataframe\">\n",
       "  <thead>\n",
       "    <tr style=\"text-align: right;\">\n",
       "      <th></th>\n",
       "      <th>movie</th>\n",
       "      <th>year</th>\n",
       "      <th>ratings</th>\n",
       "      <th>genre</th>\n",
       "      <th>gross</th>\n",
       "      <th>budget</th>\n",
       "      <th>screens</th>\n",
       "      <th>sequel</th>\n",
       "      <th>dummy_sequel</th>\n",
       "      <th>sentiment</th>\n",
       "      <th>views</th>\n",
       "      <th>likes</th>\n",
       "      <th>dislikes</th>\n",
       "      <th>comments</th>\n",
       "      <th>aggregate_followers</th>\n",
       "      <th>profit</th>\n",
       "      <th>sequelcat</th>\n",
       "      <th>likes_winsor</th>\n",
       "      <th>ratingscat</th>\n",
       "    </tr>\n",
       "  </thead>\n",
       "  <tbody>\n",
       "    <tr>\n",
       "      <th>0</th>\n",
       "      <td>13 Sins</td>\n",
       "      <td>2014</td>\n",
       "      <td>6.3</td>\n",
       "      <td>8</td>\n",
       "      <td>9130</td>\n",
       "      <td>4000000.0</td>\n",
       "      <td>45.0</td>\n",
       "      <td>1</td>\n",
       "      <td>0</td>\n",
       "      <td>0</td>\n",
       "      <td>3280543</td>\n",
       "      <td>4632</td>\n",
       "      <td>425</td>\n",
       "      <td>636</td>\n",
       "      <td>1120000.0</td>\n",
       "      <td>-3990870.0</td>\n",
       "      <td>original</td>\n",
       "      <td>4632</td>\n",
       "      <td>neutral</td>\n",
       "    </tr>\n",
       "    <tr>\n",
       "      <th>1</th>\n",
       "      <td>22 Jump Street</td>\n",
       "      <td>2014</td>\n",
       "      <td>7.1</td>\n",
       "      <td>1</td>\n",
       "      <td>192000000</td>\n",
       "      <td>50000000.0</td>\n",
       "      <td>3306.0</td>\n",
       "      <td>2</td>\n",
       "      <td>1</td>\n",
       "      <td>2</td>\n",
       "      <td>583289</td>\n",
       "      <td>3465</td>\n",
       "      <td>61</td>\n",
       "      <td>186</td>\n",
       "      <td>12350000.0</td>\n",
       "      <td>142000000.0</td>\n",
       "      <td>sequel</td>\n",
       "      <td>3465</td>\n",
       "      <td>positive</td>\n",
       "    </tr>\n",
       "    <tr>\n",
       "      <th>2</th>\n",
       "      <td>3 Days to Kill</td>\n",
       "      <td>2014</td>\n",
       "      <td>6.2</td>\n",
       "      <td>1</td>\n",
       "      <td>30700000</td>\n",
       "      <td>28000000.0</td>\n",
       "      <td>2872.0</td>\n",
       "      <td>1</td>\n",
       "      <td>0</td>\n",
       "      <td>0</td>\n",
       "      <td>304861</td>\n",
       "      <td>328</td>\n",
       "      <td>34</td>\n",
       "      <td>47</td>\n",
       "      <td>483000.0</td>\n",
       "      <td>2700000.0</td>\n",
       "      <td>original</td>\n",
       "      <td>328</td>\n",
       "      <td>neutral</td>\n",
       "    </tr>\n",
       "    <tr>\n",
       "      <th>3</th>\n",
       "      <td>300: Rise of an Empire</td>\n",
       "      <td>2014</td>\n",
       "      <td>6.3</td>\n",
       "      <td>1</td>\n",
       "      <td>106000000</td>\n",
       "      <td>110000000.0</td>\n",
       "      <td>3470.0</td>\n",
       "      <td>2</td>\n",
       "      <td>1</td>\n",
       "      <td>0</td>\n",
       "      <td>452917</td>\n",
       "      <td>2429</td>\n",
       "      <td>132</td>\n",
       "      <td>590</td>\n",
       "      <td>568000.0</td>\n",
       "      <td>-4000000.0</td>\n",
       "      <td>sequel</td>\n",
       "      <td>2429</td>\n",
       "      <td>neutral</td>\n",
       "    </tr>\n",
       "    <tr>\n",
       "      <th>4</th>\n",
       "      <td>A Haunted House 2</td>\n",
       "      <td>2014</td>\n",
       "      <td>4.7</td>\n",
       "      <td>8</td>\n",
       "      <td>17300000</td>\n",
       "      <td>3500000.0</td>\n",
       "      <td>2310.0</td>\n",
       "      <td>2</td>\n",
       "      <td>1</td>\n",
       "      <td>0</td>\n",
       "      <td>3145573</td>\n",
       "      <td>12163</td>\n",
       "      <td>610</td>\n",
       "      <td>1082</td>\n",
       "      <td>1923800.0</td>\n",
       "      <td>13800000.0</td>\n",
       "      <td>sequel</td>\n",
       "      <td>12163</td>\n",
       "      <td>negative</td>\n",
       "    </tr>\n",
       "  </tbody>\n",
       "</table>\n",
       "</div>"
      ],
      "text/plain": [
       "                    movie  year  ratings  genre      gross       budget  \\\n",
       "0                 13 Sins  2014      6.3      8       9130    4000000.0   \n",
       "1          22 Jump Street  2014      7.1      1  192000000   50000000.0   \n",
       "2          3 Days to Kill  2014      6.2      1   30700000   28000000.0   \n",
       "3  300: Rise of an Empire  2014      6.3      1  106000000  110000000.0   \n",
       "4       A Haunted House 2  2014      4.7      8   17300000    3500000.0   \n",
       "\n",
       "   screens  sequel  dummy_sequel  sentiment    views  likes  dislikes  \\\n",
       "0     45.0       1             0          0  3280543   4632       425   \n",
       "1   3306.0       2             1          2   583289   3465        61   \n",
       "2   2872.0       1             0          0   304861    328        34   \n",
       "3   3470.0       2             1          0   452917   2429       132   \n",
       "4   2310.0       2             1          0  3145573  12163       610   \n",
       "\n",
       "   comments  aggregate_followers       profit sequelcat  likes_winsor  \\\n",
       "0       636            1120000.0   -3990870.0  original          4632   \n",
       "1       186           12350000.0  142000000.0    sequel          3465   \n",
       "2        47             483000.0    2700000.0  original           328   \n",
       "3       590             568000.0   -4000000.0    sequel          2429   \n",
       "4      1082            1923800.0   13800000.0    sequel         12163   \n",
       "\n",
       "  ratingscat  \n",
       "0    neutral  \n",
       "1   positive  \n",
       "2    neutral  \n",
       "3    neutral  \n",
       "4   negative  "
      ]
     },
     "execution_count": 4,
     "metadata": {},
     "output_type": "execute_result"
    }
   ],
   "source": [
    "def winsorize(x, limit): \n",
    "    y = np.array(x, copy=True)\n",
    "    b_low = np.sort(x)[int(limit*len(x))]\n",
    "    b_high = np.sort(x)[int((1-limit)*len(x))-1]\n",
    "    y[x < b_low] = b_low\n",
    "    y[x > b_high] = b_high\n",
    "    return y\n",
    "# Create a new column likes_winsor in df_movie with a 5% winsorised version of the column likes\n",
    "df_movie['likes_winsor'] = np.array(df_movie[\"likes\"])\n",
    "\n",
    "stats.mstats.winsorize(df_movie['likes_winsor'], limits=[0.05,0.05], inplace=True)\n",
    "\n",
    "print(\"The min value of likes:\", min(df_movie[\"likes\"]))\n",
    "print(\"The min value of likes_winsor:\", min(df_movie[\"likes_winsor\"]))\n",
    "print(\"The max value of likes:\", max(df_movie[\"likes\"]))\n",
    "print(\"The max value of likes_winsor:\", max(df_movie[\"likes_winsor\"]))\n",
    "\n",
    "df_movie['ratingscat'] = pd.cut(df_movie['ratings'], bins=[0,6,6.8,10], labels=['negative','neutral','positive'], right=False)\n",
    "df_movie.head(5)# used to check the new variable results"
   ]
  },
  {
   "cell_type": "markdown",
   "id": "dbb900a4",
   "metadata": {},
   "source": [
    "### Exercise 2.3 \n",
    "Create a scatter plot for `gross` over `likes_winsor` in `df_movie`. This means that `likes_winsor` should occupy the x-Axis, and `gross` the y-Axis. Indicate the\n",
    "different `ratingscat` categories by colouring movies with `negative` ratings in *Red*, `neutral` ratings in *Blue*, and `positive` ratings in *Green*. Please use an appropriate title and axis labels, as well as a legend.\n",
    "\n",
    "Hint: Look at [`plt.scatter`](https://matplotlib.org/stable/api/_as_gen/matplotlib.pyplot.scatter.html)."
   ]
  },
  {
   "cell_type": "code",
   "execution_count": 6,
   "id": "274201ed",
   "metadata": {
    "scrolled": true
   },
   "outputs": [
    {
     "data": {
      "image/png": "[encoded data removed]",
      "text/plain": [
       "<Figure size 720x720 with 1 Axes>"
      ]
     },
     "metadata": {
      "needs_background": "light"
     },
     "output_type": "display_data"
    }
   ],
   "source": [
    "plotlabels = np.sort(df_movie['ratingscat'].unique())\n",
    "plotdata = [df_movie[df_movie['ratingscat']==label][['gross','likes_winsor']] for label in plotlabels]\n",
    "colors = [\"red\", \"blue\", \"green\"] #  colors \n",
    "plt.figure(figsize=(10, 10)) # Specify figure size\n",
    "for i, data in enumerate(plotdata):\n",
    "    plt.scatter(data['likes_winsor'],data['gross'],color=colors[i],label=\"{} ratingscat\".format(plotlabels[i]))\n",
    "plt.xlabel('Likes_winsorized 5%') # label for the x axis\n",
    "plt.ylabel('Gross Income World-wide(in US$)') # label for the y axis\n",
    "plt.title('Gross Income of Movies by Likes_winsorized') #  title\n",
    "plt.legend() # Add legend\n",
    "plt.grid(zorder=5) \n",
    "plt.show()"
   ]
  },
  {
   "cell_type": "markdown",
   "id": "da268d96",
   "metadata": {},
   "source": [
    "## Exercise 3: Hypothesis testing"
   ]
  },
  {
   "cell_type": "markdown",
   "id": "11a9b3c1",
   "metadata": {},
   "source": [
    "### Exercise 3.1 \n",
    "- Create a new dataframe `df_movie_stats` which groups `df_movie` by `ratingscat` and `sequelcat` to describe each group by the number of observations and the means and standard deviations of `profit`, `gross`, and `budget`. `df_movie_stats` will hence contain six rows (3 possible values for `ratingscat` * 2 possible values for `sequelcat`) and have the columns `N`, `profit_mean`, `profit_std`, `gross_mean`, `gross_std`, `budget_mean`, and `budget_std`.\n",
    "- `print` `df_movie_stats` to the console.\n",
    "\n",
    "Hint: Look up [`pd.DataFrame.groupby`](https://pandas.pydata.org/pandas-docs/stable/reference/api/pandas.DataFrame.groupby.html) and [`pd.DataFrame.agg`](https://pandas.pydata.org/docs/reference/api/pandas.DataFrame.agg.html)."
   ]
  },
  {
   "cell_type": "code",
   "execution_count": 8,
   "id": "f263cda3",
   "metadata": {},
   "outputs": [
    {
     "name": "stdout",
     "output_type": "stream",
     "text": [
      "                       N   profit_mean    profit_std    gross_mean  \\\n",
      "ratingscat sequelcat                                                 \n",
      "negative   original   41 -2.729568e+05  4.690779e+07  3.906034e+07   \n",
      "           sequel     10  2.200300e+07  1.946555e+07  6.025300e+07   \n",
      "neutral    original   50  8.570419e+06  4.052342e+07  4.618107e+07   \n",
      "           sequel     18  3.473889e+07  7.219638e+07  9.811667e+07   \n",
      "positive   original   54  3.355594e+07  6.182850e+07  8.350780e+07   \n",
      "           sequel     14  9.831429e+07  1.409554e+08  2.665286e+08   \n",
      "\n",
      "                         gross_std   budget_mean    budget_std  \n",
      "ratingscat sequelcat                                            \n",
      "negative   original   4.202196e+07  3.933329e+07  4.281692e+07  \n",
      "           sequel     7.107304e+07  3.825000e+07  6.236508e+07  \n",
      "neutral    original   5.094023e+07  3.761066e+07  4.191073e+07  \n",
      "           sequel     7.248261e+07  6.337778e+07  3.438850e+07  \n",
      "positive   original   8.892528e+07  4.995185e+07  5.296652e+07  \n",
      "           sequel     1.430072e+08  1.682143e+08  5.071061e+07  \n"
     ]
    }
   ],
   "source": [
    "\n",
    "df_movie_stats = df_movie[['ratingscat','sequelcat','profit','gross','budget']].groupby(['ratingscat','sequelcat']).agg(\n",
    "    N=pd.NamedAgg(column='profit', aggfunc='count'),\n",
    "    profit_mean=pd.NamedAgg(column='profit', aggfunc='mean'),\n",
    "    profit_std=pd.NamedAgg(column='profit', aggfunc='std'),\n",
    "    gross_mean=pd.NamedAgg(column='gross', aggfunc='mean'),\n",
    "    gross_std=pd.NamedAgg(column='gross', aggfunc='std'),\n",
    "    budget_mean=pd.NamedAgg(column='budget', aggfunc='mean'),\n",
    "    budget_std=pd.NamedAgg(column='budget', aggfunc='std'))\n",
    " \n",
    "print(df_movie_stats)"
   ]
  },
  {
   "cell_type": "markdown",
   "id": "032610ac",
   "metadata": {},
   "source": [
    "### Exercise 3.2 \n",
    "- Based on `df_movie`, use a Bartlett’s test to test for variance homogeneity in the column `profit` across the three different ratings categories (column: `ratingscat`). `print` the resulting test statistic and p-value to the console.\n",
    "- In your own words, explain what the null hypothesis is, and then interpret the results of the test.\n",
    "\n",
    "Hint: Look at [`scipy.stats.bartlett`](https://docs.scipy.org/doc/scipy/reference/generated/scipy.stats.bartlett.html)."
   ]
  },
  {
   "cell_type": "code",
   "execution_count": 10,
   "id": "c936a8a1",
   "metadata": {},
   "outputs": [
    {
     "name": "stdout",
     "output_type": "stream",
     "text": [
      "test statistic chi_sq = 32.2842; p-value = 9.7628e-08\n"
     ]
    }
   ],
   "source": [
    "stat, p = stats.bartlett(df_movie[df_movie['ratingscat']=='negative']['profit'], df_movie[df_movie['ratingscat']=='neutral']['profit'], df_movie[df_movie['ratingscat']=='positive']['profit'])\n",
    "print(\"test statistic chi_sq = {:.4f}; p-value = {:.4e}\".format(stat, p))"
   ]
  },
  {
   "cell_type": "markdown",
   "id": "9ff861bb",
   "metadata": {},
   "source": [
    "The test null hypothesis is an assumption that the variances are equal for all subsamples, in other words the movie profit variance is homogeneous across the three movie ratings categories. In this case the small p-value = 9.7628e-08 rejects the null hyppothesis and indicates the variance is not homogeneous."
   ]
  },
  {
   "cell_type": "markdown",
   "id": "18111936",
   "metadata": {},
   "source": [
    "### Exercise 3.3 \n",
    "- Again based on `df_movie`, use a one‐way Analysis of Variance (ANOVA) to test whether there is a difference in mean `profit` across the three different ratings categories (column: `ratingscat`). `print` the resulting test statistic and p-value to the console.\n",
    "- In your own words, explain what the null hypothesis is, and then interpret the results of the test.\n",
    "\n",
    "Hint: Look at [`scipy.stats.f_oneway`](https://docs.scipy.org/doc/scipy/reference/generated/scipy.stats.f_oneway.html)."
   ]
  },
  {
   "cell_type": "code",
   "execution_count": 163,
   "id": "dd7fb9f8",
   "metadata": {
    "scrolled": true
   },
   "outputs": [
    {
     "name": "stdout",
     "output_type": "stream",
     "text": [
      "test statistic F = 7.3630; p-value = 8.3911e-04\n"
     ]
    }
   ],
   "source": [
    "stat, p = stats.f_oneway(df_movie[df_movie['ratingscat']=='negative']['profit'], df_movie[df_movie['ratingscat']=='neutral']['profit'], df_movie[df_movie['ratingscat']=='positive']['profit'])\n",
    "print(\"test statistic F = {:.4f}; p-value = {:.4e}\".format(stat, p))"
   ]
  },
  {
   "cell_type": "markdown",
   "id": "3011ff50",
   "metadata": {},
   "source": [
    "The null hypothesis assumes the mean profit across the three ratings categories are equaly the same. In this case, there is a significant relationship between the movies profit and rating categories( F = 7.3630; p-value<0.001)."
   ]
  },
  {
   "cell_type": "markdown",
   "id": "88bc7895",
   "metadata": {},
   "source": [
    "### Exercise 3.4 \n",
    "Continue working on the differences in mean `profit` between the `ratingscat` categories in `df_movie`.\n",
    "- Conduct a PostHoc analysis with Tukey HSD to determine which pairs of categories (if any) have significantly different means from each other. `print` the results to the console.\n",
    "- In your own words, interpret the results of the test.\n",
    "\n",
    "Hint: Look at [`statsmodels.stats.multicomp.MultiComparison`](https://www.statsmodels.org/dev/generated/statsmodels.sandbox.stats.multicomp.MultiComparison.html). `MultiComparison` has been imported above."
   ]
  },
  {
   "cell_type": "code",
   "execution_count": 164,
   "id": "6fdd2587",
   "metadata": {},
   "outputs": [
    {
     "name": "stdout",
     "output_type": "stream",
     "text": [
      "           Multiple Comparison of Means - Tukey HSD, FWER=0.05            \n",
      "==========================================================================\n",
      " group1   group2     meandiff   p-adj      lower          upper     reject\n",
      "--------------------------------------------------------------------------\n",
      "negative  neutral   9497026.771 0.6781 -18025860.9828 37019914.5249  False\n",
      "negative positive 44178628.6077 0.0013  14953701.7734 73403555.4419   True\n",
      " neutral positive 34681601.8366 0.0072   7866745.0997 61496458.5736   True\n",
      "--------------------------------------------------------------------------\n"
     ]
    }
   ],
   "source": [
    "comp = MultiComparison(df_movie['profit'], df_movie['ratingscat']).tukeyhsd().summary()\n",
    "print(comp)"
   ]
  },
  {
   "cell_type": "markdown",
   "id": "42302787",
   "metadata": {},
   "source": [
    "In this case after comparing profit means between ratings categories we have conclude that the difference between the negative and the neutral group is not significant. On the other hand, the difference between negative and positive, and neutral and positive are significant.\n",
    " "
   ]
  },
  {
   "cell_type": "markdown",
   "id": "ae173c59",
   "metadata": {},
   "source": [
    "### Exercise 3.5 \n",
    "- Based on `df_movie`, compare the mean `profit`s for `original` and `sequel` movies (column: `sequelcat`).\n",
    "- Choose an appropriate test to determine whether there is a significant difference. Conduct the test and `print` the results to the console.\n",
    "- Explain your test choice and the results in your own words.\n",
    "\n",
    "Hint: An additional test may be required to determine which test to use for comparing the means."
   ]
  },
  {
   "cell_type": "code",
   "execution_count": 14,
   "id": "3cd2785d",
   "metadata": {},
   "outputs": [
    {
     "name": "stdout",
     "output_type": "stream",
     "text": [
      "test statistic F = 5.0740; p-value = 2.5462e-02\n",
      "test statistic t = -2.3808; p-value = 0.021287\n"
     ]
    }
   ],
   "source": [
    "stat, p = stats.levene(df_movie[df_movie['sequelcat']=='original']['profit'], df_movie[df_movie['sequelcat']=='sequel']['profit'])\n",
    "print(\"test statistic F = {:.4f}; p-value = {:.4e}\".format(stat, p))\n",
    "\n",
    "stat, p = stats.ttest_ind(a=df_movie[df_movie['sequelcat']=='original']['profit'], b=df_movie[df_movie['sequelcat']=='sequel']['profit'], equal_var=False)\n",
    "print(\"test statistic t = {:.4f}; p-value = {:.6f}\".format(stat, p))"
   ]
  },
  {
   "cell_type": "markdown",
   "id": "fa56a041",
   "metadata": {},
   "source": [
    "Firstly to deteremine the variance homogeneity I chose the Levene test as it is a more robust to deviations from normal distribution. The result indicates the variance for profit by sequelcat (original and sequel) is not equal.  \n",
    "As a result of the non homogeneity it is recomended a t-Test to compare the profit means. The result indicates the diference in profit between original and sequel movies is significant (t = -2.3808; p-value = 0.021287)."
   ]
  }
 ],
 "metadata": {
  "kernelspec": {
   "display_name": "Python 3",
   "language": "python",
   "name": "python3"
  },
  "language_info": {
   "codemirror_mode": {
    "name": "ipython",
    "version": 3
   },
   "file_extension": ".py",
   "mimetype": "text/x-python",
   "name": "python",
   "nbconvert_exporter": "python",
   "pygments_lexer": "ipython3",
   "version": "3.8.8"
  }
 },
 "nbformat": 4,
 "nbformat_minor": 5
}
